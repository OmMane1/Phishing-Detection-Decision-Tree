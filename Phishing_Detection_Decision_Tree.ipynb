{
  "nbformat": 4,
  "nbformat_minor": 0,
  "metadata": {
    "colab": {
      "name": "Phishing Detection Decision Tree",
      "provenance": [],
      "collapsed_sections": [],
      "include_colab_link": true
    },
    "kernelspec": {
      "display_name": "Python 3",
      "name": "python3"
    }
  },
  "cells": [
    {
      "cell_type": "markdown",
      "metadata": {
        "id": "view-in-github",
        "colab_type": "text"
      },
      "source": [
        "<a href=\"https://colab.research.google.com/github/OmMane1/Phishing-Detection-Decision-Tree/blob/main/Phishing_Detection_Decision_Tree.ipynb\" target=\"_parent\"><img src=\"https://colab.research.google.com/assets/colab-badge.svg\" alt=\"Open In Colab\"/></a>"
      ]
    },
    {
      "cell_type": "code",
      "metadata": {
        "id": "n6oAHiAzbJhu"
      },
      "source": [
        "import pandas as pd\n",
        "import numpy as np\n",
        "import matplotlib.pyplot as plt\n"
      ],
      "execution_count": null,
      "outputs": []
    },
    {
      "cell_type": "code",
      "metadata": {
        "colab": {
          "base_uri": "https://localhost:8080/",
          "height": 223
        },
        "id": "ib9kugL8cXNM",
        "outputId": "5e83d06b-5cbe-4c66-e287-2c25665eb534"
      },
      "source": [
        "data = pd.read_csv(\"/content/CyberSecurityData.csv\")\n",
        "data.head()"
      ],
      "execution_count": null,
      "outputs": [
        {
          "output_type": "execute_result",
          "data": {
            "text/html": [
              "<div>\n",
              "<style scoped>\n",
              "    .dataframe tbody tr th:only-of-type {\n",
              "        vertical-align: middle;\n",
              "    }\n",
              "\n",
              "    .dataframe tbody tr th {\n",
              "        vertical-align: top;\n",
              "    }\n",
              "\n",
              "    .dataframe thead th {\n",
              "        text-align: right;\n",
              "    }\n",
              "</style>\n",
              "<table border=\"1\" class=\"dataframe\">\n",
              "  <thead>\n",
              "    <tr style=\"text-align: right;\">\n",
              "      <th></th>\n",
              "      <th>id</th>\n",
              "      <th>having_IP_Address</th>\n",
              "      <th>URL_Length</th>\n",
              "      <th>Shortining_Service</th>\n",
              "      <th>having_At_Symbol</th>\n",
              "      <th>double_slash_redirecting</th>\n",
              "      <th>Prefix_Suffix</th>\n",
              "      <th>having_Sub_Domain</th>\n",
              "      <th>SSLfinal_State</th>\n",
              "      <th>Domain_registeration_length</th>\n",
              "      <th>Favicon</th>\n",
              "      <th>port</th>\n",
              "      <th>HTTPS_token</th>\n",
              "      <th>Request_URL</th>\n",
              "      <th>URL_of_Anchor</th>\n",
              "      <th>Links_in_tags</th>\n",
              "      <th>SFH</th>\n",
              "      <th>Submitting_to_email</th>\n",
              "      <th>Abnormal_URL</th>\n",
              "      <th>Redirect</th>\n",
              "      <th>on_mouseover</th>\n",
              "      <th>RightClick</th>\n",
              "      <th>popUpWidnow</th>\n",
              "      <th>Iframe</th>\n",
              "      <th>age_of_domain</th>\n",
              "      <th>DNSRecord</th>\n",
              "      <th>web_traffic</th>\n",
              "      <th>Page_Rank</th>\n",
              "      <th>Google_Index</th>\n",
              "      <th>Links_pointing_to_page</th>\n",
              "      <th>Statistical_report</th>\n",
              "      <th>Result</th>\n",
              "    </tr>\n",
              "  </thead>\n",
              "  <tbody>\n",
              "    <tr>\n",
              "      <th>0</th>\n",
              "      <td>1</td>\n",
              "      <td>-1</td>\n",
              "      <td>1</td>\n",
              "      <td>1</td>\n",
              "      <td>1</td>\n",
              "      <td>-1</td>\n",
              "      <td>-1</td>\n",
              "      <td>-1</td>\n",
              "      <td>-1</td>\n",
              "      <td>-1</td>\n",
              "      <td>1</td>\n",
              "      <td>1</td>\n",
              "      <td>-1</td>\n",
              "      <td>1</td>\n",
              "      <td>-1</td>\n",
              "      <td>1</td>\n",
              "      <td>-1</td>\n",
              "      <td>-1</td>\n",
              "      <td>-1</td>\n",
              "      <td>0</td>\n",
              "      <td>1</td>\n",
              "      <td>1</td>\n",
              "      <td>1</td>\n",
              "      <td>1</td>\n",
              "      <td>-1</td>\n",
              "      <td>-1</td>\n",
              "      <td>-1</td>\n",
              "      <td>-1</td>\n",
              "      <td>1</td>\n",
              "      <td>1</td>\n",
              "      <td>-1</td>\n",
              "      <td>-1</td>\n",
              "    </tr>\n",
              "    <tr>\n",
              "      <th>1</th>\n",
              "      <td>2</td>\n",
              "      <td>1</td>\n",
              "      <td>1</td>\n",
              "      <td>1</td>\n",
              "      <td>1</td>\n",
              "      <td>1</td>\n",
              "      <td>-1</td>\n",
              "      <td>0</td>\n",
              "      <td>1</td>\n",
              "      <td>-1</td>\n",
              "      <td>1</td>\n",
              "      <td>1</td>\n",
              "      <td>-1</td>\n",
              "      <td>1</td>\n",
              "      <td>0</td>\n",
              "      <td>-1</td>\n",
              "      <td>-1</td>\n",
              "      <td>1</td>\n",
              "      <td>1</td>\n",
              "      <td>0</td>\n",
              "      <td>1</td>\n",
              "      <td>1</td>\n",
              "      <td>1</td>\n",
              "      <td>1</td>\n",
              "      <td>-1</td>\n",
              "      <td>-1</td>\n",
              "      <td>0</td>\n",
              "      <td>-1</td>\n",
              "      <td>1</td>\n",
              "      <td>1</td>\n",
              "      <td>1</td>\n",
              "      <td>-1</td>\n",
              "    </tr>\n",
              "    <tr>\n",
              "      <th>2</th>\n",
              "      <td>3</td>\n",
              "      <td>1</td>\n",
              "      <td>0</td>\n",
              "      <td>1</td>\n",
              "      <td>1</td>\n",
              "      <td>1</td>\n",
              "      <td>-1</td>\n",
              "      <td>-1</td>\n",
              "      <td>-1</td>\n",
              "      <td>-1</td>\n",
              "      <td>1</td>\n",
              "      <td>1</td>\n",
              "      <td>-1</td>\n",
              "      <td>1</td>\n",
              "      <td>0</td>\n",
              "      <td>-1</td>\n",
              "      <td>-1</td>\n",
              "      <td>-1</td>\n",
              "      <td>-1</td>\n",
              "      <td>0</td>\n",
              "      <td>1</td>\n",
              "      <td>1</td>\n",
              "      <td>1</td>\n",
              "      <td>1</td>\n",
              "      <td>1</td>\n",
              "      <td>-1</td>\n",
              "      <td>1</td>\n",
              "      <td>-1</td>\n",
              "      <td>1</td>\n",
              "      <td>0</td>\n",
              "      <td>-1</td>\n",
              "      <td>-1</td>\n",
              "    </tr>\n",
              "    <tr>\n",
              "      <th>3</th>\n",
              "      <td>4</td>\n",
              "      <td>1</td>\n",
              "      <td>0</td>\n",
              "      <td>1</td>\n",
              "      <td>1</td>\n",
              "      <td>1</td>\n",
              "      <td>-1</td>\n",
              "      <td>-1</td>\n",
              "      <td>-1</td>\n",
              "      <td>1</td>\n",
              "      <td>1</td>\n",
              "      <td>1</td>\n",
              "      <td>-1</td>\n",
              "      <td>-1</td>\n",
              "      <td>0</td>\n",
              "      <td>0</td>\n",
              "      <td>-1</td>\n",
              "      <td>1</td>\n",
              "      <td>1</td>\n",
              "      <td>0</td>\n",
              "      <td>1</td>\n",
              "      <td>1</td>\n",
              "      <td>1</td>\n",
              "      <td>1</td>\n",
              "      <td>-1</td>\n",
              "      <td>-1</td>\n",
              "      <td>1</td>\n",
              "      <td>-1</td>\n",
              "      <td>1</td>\n",
              "      <td>-1</td>\n",
              "      <td>1</td>\n",
              "      <td>-1</td>\n",
              "    </tr>\n",
              "    <tr>\n",
              "      <th>4</th>\n",
              "      <td>5</td>\n",
              "      <td>1</td>\n",
              "      <td>0</td>\n",
              "      <td>-1</td>\n",
              "      <td>1</td>\n",
              "      <td>1</td>\n",
              "      <td>-1</td>\n",
              "      <td>1</td>\n",
              "      <td>1</td>\n",
              "      <td>-1</td>\n",
              "      <td>1</td>\n",
              "      <td>1</td>\n",
              "      <td>1</td>\n",
              "      <td>1</td>\n",
              "      <td>0</td>\n",
              "      <td>0</td>\n",
              "      <td>-1</td>\n",
              "      <td>1</td>\n",
              "      <td>1</td>\n",
              "      <td>0</td>\n",
              "      <td>-1</td>\n",
              "      <td>1</td>\n",
              "      <td>-1</td>\n",
              "      <td>1</td>\n",
              "      <td>-1</td>\n",
              "      <td>-1</td>\n",
              "      <td>0</td>\n",
              "      <td>-1</td>\n",
              "      <td>1</td>\n",
              "      <td>1</td>\n",
              "      <td>1</td>\n",
              "      <td>1</td>\n",
              "    </tr>\n",
              "  </tbody>\n",
              "</table>\n",
              "</div>"
            ],
            "text/plain": [
              "   id  having_IP_Address  ...  Statistical_report  Result\n",
              "0   1                 -1  ...                  -1      -1\n",
              "1   2                  1  ...                   1      -1\n",
              "2   3                  1  ...                  -1      -1\n",
              "3   4                  1  ...                   1      -1\n",
              "4   5                  1  ...                   1       1\n",
              "\n",
              "[5 rows x 32 columns]"
            ]
          },
          "metadata": {},
          "execution_count": 5
        }
      ]
    },
    {
      "cell_type": "code",
      "metadata": {
        "colab": {
          "base_uri": "https://localhost:8080/"
        },
        "id": "28rkpbY8dpkt",
        "outputId": "8f915148-e969-44a5-a59a-d30363f5291a"
      },
      "source": [
        "data.drop([\"id\"],axis=1,inplace=True)\n",
        "data.columns"
      ],
      "execution_count": null,
      "outputs": [
        {
          "output_type": "execute_result",
          "data": {
            "text/plain": [
              "Index(['having_IP_Address', 'URL_Length', 'Shortining_Service',\n",
              "       'having_At_Symbol', 'double_slash_redirecting', 'Prefix_Suffix',\n",
              "       'having_Sub_Domain', 'SSLfinal_State', 'Domain_registeration_length',\n",
              "       'Favicon', 'port', 'HTTPS_token', 'Request_URL', 'URL_of_Anchor',\n",
              "       'Links_in_tags', 'SFH', 'Submitting_to_email', 'Abnormal_URL',\n",
              "       'Redirect', 'on_mouseover', 'RightClick', 'popUpWidnow', 'Iframe',\n",
              "       'age_of_domain', 'DNSRecord', 'web_traffic', 'Page_Rank',\n",
              "       'Google_Index', 'Links_pointing_to_page', 'Statistical_report',\n",
              "       'Result'],\n",
              "      dtype='object')"
            ]
          },
          "metadata": {},
          "execution_count": 6
        }
      ]
    },
    {
      "cell_type": "markdown",
      "metadata": {
        "id": "95EcR-Vzo8_V"
      },
      "source": [
        ""
      ]
    },
    {
      "cell_type": "code",
      "metadata": {
        "colab": {
          "base_uri": "https://localhost:8080/"
        },
        "id": "Ams5x8W5dwh8",
        "outputId": "5db7311f-93bf-4ad1-c019-962c1e915913"
      },
      "source": [
        "data.shape\n"
      ],
      "execution_count": null,
      "outputs": [
        {
          "output_type": "execute_result",
          "data": {
            "text/plain": [
              "(11055, 31)"
            ]
          },
          "metadata": {},
          "execution_count": 7
        }
      ]
    },
    {
      "cell_type": "code",
      "metadata": {
        "colab": {
          "base_uri": "https://localhost:8080/"
        },
        "id": "sHY9XemCd1-c",
        "outputId": "de0c92fe-9af0-4d8a-d030-2bc55f9102ff"
      },
      "source": [
        "data.isnull().values.any()"
      ],
      "execution_count": null,
      "outputs": [
        {
          "output_type": "execute_result",
          "data": {
            "text/plain": [
              "False"
            ]
          },
          "metadata": {},
          "execution_count": 8
        }
      ]
    },
    {
      "cell_type": "code",
      "metadata": {
        "colab": {
          "base_uri": "https://localhost:8080/"
        },
        "id": "YcmroKBtd518",
        "outputId": "8c6d72ac-65f2-4c98-b25b-14b485a9030b"
      },
      "source": [
        "from sklearn.tree import DecisionTreeClassifier\n",
        "from sklearn.metrics import accuracy_score\n",
        "from sklearn.metrics import mean_squared_error\n",
        "from sklearn import metrics\n",
        "from sklearn.model_selection import train_test_split\n",
        "x=data.drop('URL_Length',axis=1)\n",
        "y=data['URL_Length']\n",
        "x_train,x_test,y_train,y_test=train_test_split(x,y,test_size=0.20,random_state=0)\n",
        "dt=DecisionTreeClassifier(random_state=0)\n",
        "dt.fit(x_train,y_train)\n",
        "y_predict=dt.predict(x_test)\n",
        "print(\"train set accuracy: \",100*dt.score(x_train,y_train))\n",
        "print(\"Test set accuracy : \",100*dt.score(x_test,y_test))\n",
        "print(metrics.classification_report(y_test,y_predict))"
      ],
      "execution_count": null,
      "outputs": [
        {
          "output_type": "stream",
          "name": "stdout",
          "text": [
            "train set accuracy:  99.19719583898689\n",
            "Test set accuracy :  95.2962460425147\n",
            "              precision    recall  f1-score   support\n",
            "\n",
            "          -1       0.97      0.97      0.97      1800\n",
            "           0       0.67      0.67      0.67        30\n",
            "           1       0.88      0.89      0.88       381\n",
            "\n",
            "    accuracy                           0.95      2211\n",
            "   macro avg       0.84      0.84      0.84      2211\n",
            "weighted avg       0.95      0.95      0.95      2211\n",
            "\n"
          ]
        }
      ]
    },
    {
      "cell_type": "code",
      "metadata": {
        "colab": {
          "base_uri": "https://localhost:8080/"
        },
        "id": "WwqJ3TCYfR_1",
        "outputId": "3922bd2d-65aa-49e0-b94c-7a0d413dcb36"
      },
      "source": [
        "from sklearn.tree import DecisionTreeClassifier\n",
        "from sklearn.metrics import accuracy_score\n",
        "from sklearn.metrics import mean_squared_error\n",
        "from sklearn import metrics\n",
        "from sklearn.model_selection import train_test_split\n",
        "x=data.drop('having_IP_Address',axis=1)\n",
        "y=data['having_IP_Address']\n",
        "x_train,x_test,y_train,y_test=train_test_split(x,y,test_size=0.20,random_state=0)\n",
        "dt=DecisionTreeClassifier(random_state=0)\n",
        "dt.fit(x_train,y_train)\n",
        "y_predict=dt.predict(x_test)\n",
        "print(\"train set accuracy: \",100*dt.score(x_train,y_train))\n",
        "print(\"Test set accuracy : \",100*dt.score(x_test,y_test))\n",
        "print(metrics.classification_report(y_test,y_predict))"
      ],
      "execution_count": null,
      "outputs": [
        {
          "output_type": "stream",
          "name": "stdout",
          "text": [
            "train set accuracy:  96.69832654907282\n",
            "Test set accuracy :  86.2053369516056\n",
            "              precision    recall  f1-score   support\n",
            "\n",
            "          -1       0.79      0.81      0.80       762\n",
            "           1       0.90      0.89      0.89      1449\n",
            "\n",
            "    accuracy                           0.86      2211\n",
            "   macro avg       0.85      0.85      0.85      2211\n",
            "weighted avg       0.86      0.86      0.86      2211\n",
            "\n"
          ]
        }
      ]
    },
    {
      "cell_type": "code",
      "metadata": {
        "colab": {
          "base_uri": "https://localhost:8080/"
        },
        "id": "ZL6pA3ORfhWz",
        "outputId": "757b1d1a-89f9-4224-e709-a6a36fbcf60a"
      },
      "source": [
        "from sklearn.tree import DecisionTreeClassifier\n",
        "from sklearn.metrics import accuracy_score\n",
        "from sklearn.metrics import mean_squared_error\n",
        "from sklearn import metrics\n",
        "from sklearn.model_selection import train_test_split\n",
        "x=data.drop('having_At_Symbol',axis=1)\n",
        "y=data['having_At_Symbol']\n",
        "x_train,x_test,y_train,y_test=train_test_split(x,y,test_size=0.20,random_state=0)\n",
        "dt=DecisionTreeClassifier(random_state=0)\n",
        "dt.fit(x_train,y_train)\n",
        "y_predict=dt.predict(x_test)\n",
        "print(\"train set accuracy: \",100*dt.score(x_train,y_train))\n",
        "print(\"Test set accuracy : \",100*dt.score(x_test,y_test))\n",
        "print(metrics.classification_report(y_test,y_predict))"
      ],
      "execution_count": null,
      "outputs": [
        {
          "output_type": "stream",
          "name": "stdout",
          "text": [
            "train set accuracy:  98.28132066938036\n",
            "Test set accuracy :  92.9895974672094\n",
            "              precision    recall  f1-score   support\n",
            "\n",
            "          -1       0.76      0.79      0.78       342\n",
            "           1       0.96      0.96      0.96      1869\n",
            "\n",
            "    accuracy                           0.93      2211\n",
            "   macro avg       0.86      0.87      0.87      2211\n",
            "weighted avg       0.93      0.93      0.93      2211\n",
            "\n"
          ]
        }
      ]
    },
    {
      "cell_type": "code",
      "metadata": {
        "colab": {
          "base_uri": "https://localhost:8080/"
        },
        "id": "GfUyYLRCfpSs",
        "outputId": "b2cdda58-169d-48dc-f4cd-c6e67d043595"
      },
      "source": [
        "from sklearn.tree import DecisionTreeClassifier\n",
        "from sklearn.metrics import accuracy_score\n",
        "from sklearn.metrics import mean_squared_error\n",
        "from sklearn import metrics\n",
        "from sklearn.model_selection import train_test_split\n",
        "x=data.drop('double_slash_redirecting',axis=1)\n",
        "y=data['double_slash_redirecting']\n",
        "x_train,x_test,y_train,y_test=train_test_split(x,y,test_size=0.20,random_state=0)\n",
        "dt=DecisionTreeClassifier(random_state=0)\n",
        "dt.fit(x_train,y_train)\n",
        "y_predict=dt.predict(x_test)\n",
        "print(\"train set accuracy: \",100*dt.score(x_train,y_train))\n",
        "print(\"Test set accuracy : \",100*dt.score(x_test,y_test))\n",
        "print(metrics.classification_report(y_test,y_predict))"
      ],
      "execution_count": null,
      "outputs": [
        {
          "output_type": "stream",
          "name": "stdout",
          "text": [
            "train set accuracy:  99.90954319312529\n",
            "Test set accuracy :  98.73360470375395\n",
            "              precision    recall  f1-score   support\n",
            "\n",
            "          -1       0.94      0.96      0.95       278\n",
            "           1       0.99      0.99      0.99      1933\n",
            "\n",
            "    accuracy                           0.99      2211\n",
            "   macro avg       0.97      0.98      0.97      2211\n",
            "weighted avg       0.99      0.99      0.99      2211\n",
            "\n"
          ]
        }
      ]
    },
    {
      "cell_type": "code",
      "metadata": {
        "colab": {
          "base_uri": "https://localhost:8080/"
        },
        "id": "oyfOm2eLfzcc",
        "outputId": "064d8d88-fe46-4577-e2a9-439e6034cc44"
      },
      "source": [
        "from sklearn.tree import DecisionTreeClassifier\n",
        "from sklearn.metrics import accuracy_score\n",
        "from sklearn.metrics import mean_squared_error\n",
        "from sklearn import metrics\n",
        "from sklearn.model_selection import train_test_split\n",
        "x=data.drop('having_Sub_Domain',axis=1)\n",
        "y=data['having_Sub_Domain']\n",
        "x_train,x_test,y_train,y_test=train_test_split(x,y,test_size=0.20,random_state=0)\n",
        "dt=DecisionTreeClassifier(random_state=0)\n",
        "dt.fit(x_train,y_train)\n",
        "y_predict=dt.predict(x_test)\n",
        "print(\"train set accuracy: \",100*dt.score(x_train,y_train))\n",
        "print(\"Test set accuracy : \",100*dt.score(x_test,y_test))\n",
        "print(metrics.classification_report(y_test,y_predict))"
      ],
      "execution_count": null,
      "outputs": [
        {
          "output_type": "stream",
          "name": "stdout",
          "text": [
            "train set accuracy:  91.06739032112166\n",
            "Test set accuracy :  75.98371777476255\n",
            "              precision    recall  f1-score   support\n",
            "\n",
            "          -1       0.69      0.76      0.72       650\n",
            "           0       0.77      0.74      0.75       712\n",
            "           1       0.81      0.78      0.80       849\n",
            "\n",
            "    accuracy                           0.76      2211\n",
            "   macro avg       0.76      0.76      0.76      2211\n",
            "weighted avg       0.76      0.76      0.76      2211\n",
            "\n"
          ]
        }
      ]
    },
    {
      "cell_type": "code",
      "metadata": {
        "colab": {
          "base_uri": "https://localhost:8080/"
        },
        "id": "14IWJGypf_y0",
        "outputId": "c71c7684-59e4-4a0f-c7d5-840657a12428"
      },
      "source": [
        "from sklearn.tree import DecisionTreeClassifier\n",
        "from sklearn.metrics import accuracy_score\n",
        "from sklearn.metrics import mean_squared_error\n",
        "from sklearn import metrics\n",
        "from sklearn.model_selection import train_test_split\n",
        "x=data.drop('Prefix_Suffix',axis=1)\n",
        "y=data['Prefix_Suffix']\n",
        "x_train,x_test,y_train,y_test=train_test_split(x,y,test_size=0.20,random_state=0)\n",
        "dt=DecisionTreeClassifier(random_state=0)\n",
        "dt.fit(x_train,y_train)\n",
        "y_predict=dt.predict(x_test)\n",
        "print(\"train set accuracy: \",100*dt.score(x_train,y_train))\n",
        "print(\"Test set accuracy : \",100*dt.score(x_test,y_test))\n",
        "print(metrics.classification_report(y_test,y_predict))"
      ],
      "execution_count": null,
      "outputs": [
        {
          "output_type": "stream",
          "name": "stdout",
          "text": [
            "train set accuracy:  97.78380823156942\n",
            "Test set accuracy :  95.43193125282677\n",
            "              precision    recall  f1-score   support\n",
            "\n",
            "          -1       0.97      0.98      0.97      1930\n",
            "           1       0.84      0.79      0.82       281\n",
            "\n",
            "    accuracy                           0.95      2211\n",
            "   macro avg       0.90      0.89      0.89      2211\n",
            "weighted avg       0.95      0.95      0.95      2211\n",
            "\n"
          ]
        }
      ]
    },
    {
      "cell_type": "code",
      "metadata": {
        "colab": {
          "base_uri": "https://localhost:8080/"
        },
        "id": "t2kgWcnQgLck",
        "outputId": "b6825712-a027-4b6a-b2aa-26240432a1ed"
      },
      "source": [
        "from sklearn.tree import DecisionTreeClassifier\n",
        "from sklearn.metrics import accuracy_score\n",
        "from sklearn.metrics import mean_squared_error\n",
        "from sklearn import metrics\n",
        "from sklearn.model_selection import train_test_split\n",
        "x=data.drop('HTTPS_token',axis=1)\n",
        "y=data['HTTPS_token']\n",
        "x_train,x_test,y_train,y_test=train_test_split(x,y,test_size=0.20,random_state=0)\n",
        "dt=DecisionTreeClassifier(random_state=0)\n",
        "dt.fit(x_train,y_train)\n",
        "y_predict=dt.predict(x_test)\n",
        "print(\"train set accuracy: \",100*dt.score(x_train,y_train))\n",
        "print(\"Test set accuracy : \",100*dt.score(x_test,y_test))\n",
        "print(metrics.classification_report(y_test,y_predict))"
      ],
      "execution_count": null,
      "outputs": [
        {
          "output_type": "stream",
          "name": "stdout",
          "text": [
            "train set accuracy:  99.6268656716418\n",
            "Test set accuracy :  97.33152419719585\n",
            "              precision    recall  f1-score   support\n",
            "\n",
            "          -1       0.92      0.92      0.92       368\n",
            "           1       0.98      0.98      0.98      1843\n",
            "\n",
            "    accuracy                           0.97      2211\n",
            "   macro avg       0.95      0.95      0.95      2211\n",
            "weighted avg       0.97      0.97      0.97      2211\n",
            "\n"
          ]
        }
      ]
    },
    {
      "cell_type": "code",
      "metadata": {
        "colab": {
          "base_uri": "https://localhost:8080/"
        },
        "id": "jRfKlAzmgukU",
        "outputId": "24bb26dc-43da-40f3-be3c-cd3fc3bb882e"
      },
      "source": [
        "from sklearn.tree import DecisionTreeClassifier\n",
        "from sklearn.metrics import accuracy_score\n",
        "from sklearn.metrics import mean_squared_error\n",
        "from sklearn import metrics\n",
        "from sklearn.model_selection import train_test_split\n",
        "x=data.drop('Links_in_tags',axis=1)\n",
        "y=data['Links_in_tags']\n",
        "x_train,x_test,y_train,y_test=train_test_split(x,y,test_size=0.20,random_state=0)\n",
        "dt=DecisionTreeClassifier(random_state=0)\n",
        "dt.fit(x_train,y_train)\n",
        "y_predict=dt.predict(x_test)\n",
        "print(\"train set accuracy: \",100*dt.score(x_train,y_train))\n",
        "print(\"Test set accuracy : \",100*dt.score(x_test,y_test))\n",
        "print(metrics.classification_report(y_test,y_predict))"
      ],
      "execution_count": null,
      "outputs": [
        {
          "output_type": "stream",
          "name": "stdout",
          "text": [
            "train set accuracy:  89.52962460425147\n",
            "Test set accuracy :  75.62189054726367\n",
            "              precision    recall  f1-score   support\n",
            "\n",
            "          -1       0.75      0.79      0.77       785\n",
            "           0       0.75      0.76      0.76       869\n",
            "           1       0.78      0.71      0.74       557\n",
            "\n",
            "    accuracy                           0.76      2211\n",
            "   macro avg       0.76      0.75      0.75      2211\n",
            "weighted avg       0.76      0.76      0.76      2211\n",
            "\n"
          ]
        }
      ]
    },
    {
      "cell_type": "code",
      "metadata": {
        "colab": {
          "base_uri": "https://localhost:8080/"
        },
        "id": "zReT7Dj6g2JF",
        "outputId": "f88de362-0764-4531-90d8-dafe1351b9c0"
      },
      "source": [
        "from sklearn.tree import DecisionTreeClassifier\n",
        "from sklearn.metrics import accuracy_score\n",
        "from sklearn.metrics import mean_squared_error\n",
        "from sklearn import metrics\n",
        "from sklearn.model_selection import train_test_split\n",
        "x=data.drop('popUpWidnow',axis=1)\n",
        "y=data['popUpWidnow']\n",
        "x_train,x_test,y_train,y_test=train_test_split(x,y,test_size=0.20,random_state=0)\n",
        "dt=DecisionTreeClassifier(random_state=0)\n",
        "dt.fit(x_train,y_train)\n",
        "y_predict=dt.predict(x_test)\n",
        "print(\"train set accuracy: \",100*dt.score(x_train,y_train))\n",
        "print(\"Test set accuracy : \",100*dt.score(x_test,y_test))\n",
        "print(metrics.classification_report(y_test,y_predict))"
      ],
      "execution_count": null,
      "outputs": [
        {
          "output_type": "stream",
          "name": "stdout",
          "text": [
            "train set accuracy:  99.97738579828132\n",
            "Test set accuracy :  99.41203075531433\n",
            "              precision    recall  f1-score   support\n",
            "\n",
            "          -1       0.98      0.99      0.99       439\n",
            "           1       1.00      0.99      1.00      1772\n",
            "\n",
            "    accuracy                           0.99      2211\n",
            "   macro avg       0.99      0.99      0.99      2211\n",
            "weighted avg       0.99      0.99      0.99      2211\n",
            "\n"
          ]
        }
      ]
    },
    {
      "cell_type": "code",
      "metadata": {
        "colab": {
          "base_uri": "https://localhost:8080/"
        },
        "id": "t_VPzQs8hBVM",
        "outputId": "f74eecad-a403-43f8-f219-4d9969df62d1"
      },
      "source": [
        "from sklearn.tree import DecisionTreeClassifier\n",
        "from sklearn.metrics import accuracy_score\n",
        "from sklearn.metrics import mean_squared_error\n",
        "from sklearn import metrics\n",
        "from sklearn.model_selection import train_test_split\n",
        "x=data.drop('Redirect',axis=1)\n",
        "y=data['Redirect']\n",
        "x_train,x_test,y_train,y_test=train_test_split(x,y,test_size=0.20,random_state=0)\n",
        "dt=DecisionTreeClassifier(random_state=0)\n",
        "dt.fit(x_train,y_train)\n",
        "y_predict=dt.predict(x_test)\n",
        "print(\"train set accuracy: \",100*dt.score(x_train,y_train))\n",
        "print(\"Test set accuracy : \",100*dt.score(x_test,y_test))\n",
        "print(metrics.classification_report(y_test,y_predict))"
      ],
      "execution_count": null,
      "outputs": [
        {
          "output_type": "stream",
          "name": "stdout",
          "text": [
            "train set accuracy:  98.85798281320669\n",
            "Test set accuracy :  93.93939393939394\n",
            "              precision    recall  f1-score   support\n",
            "\n",
            "           0       0.96      0.97      0.97      1951\n",
            "           1       0.77      0.69      0.73       260\n",
            "\n",
            "    accuracy                           0.94      2211\n",
            "   macro avg       0.87      0.83      0.85      2211\n",
            "weighted avg       0.94      0.94      0.94      2211\n",
            "\n"
          ]
        }
      ]
    },
    {
      "cell_type": "code",
      "metadata": {
        "colab": {
          "base_uri": "https://localhost:8080/"
        },
        "id": "G1b0U5Z1hN2M",
        "outputId": "4c5d2b62-ffd0-4853-cb2d-e06714dbd56b"
      },
      "source": [
        "from sklearn.tree import DecisionTreeClassifier\n",
        "from sklearn.metrics import accuracy_score\n",
        "from sklearn.metrics import mean_squared_error\n",
        "from sklearn import metrics\n",
        "from sklearn.model_selection import train_test_split\n",
        "x=data.drop('on_mouseover',axis=1)\n",
        "y=data['on_mouseover']\n",
        "x_train,x_test,y_train,y_test=train_test_split(x,y,test_size=0.20,random_state=0)\n",
        "dt=DecisionTreeClassifier(random_state=0)\n",
        "dt.fit(x_train,y_train)\n",
        "y_predict=dt.predict(x_test)\n",
        "print(\"train set accuracy: \",100*dt.score(x_train,y_train))\n",
        "print(\"Test set accuracy : \",100*dt.score(x_test,y_test))\n",
        "print(metrics.classification_report(y_test,y_predict))"
      ],
      "execution_count": null,
      "outputs": [
        {
          "output_type": "stream",
          "name": "stdout",
          "text": [
            "train set accuracy:  99.86431478968792\n",
            "Test set accuracy :  98.41700587969244\n",
            "              precision    recall  f1-score   support\n",
            "\n",
            "          -1       0.93      0.94      0.93       260\n",
            "           1       0.99      0.99      0.99      1951\n",
            "\n",
            "    accuracy                           0.98      2211\n",
            "   macro avg       0.96      0.96      0.96      2211\n",
            "weighted avg       0.98      0.98      0.98      2211\n",
            "\n"
          ]
        }
      ]
    },
    {
      "cell_type": "code",
      "metadata": {
        "colab": {
          "base_uri": "https://localhost:8080/"
        },
        "id": "XEB3WpTRhceM",
        "outputId": "d0c5237a-177a-413a-a7c5-b3e53b0d3a30"
      },
      "source": [
        "from sklearn.tree import DecisionTreeClassifier\n",
        "from sklearn.metrics import accuracy_score\n",
        "from sklearn.metrics import mean_squared_error\n",
        "from sklearn import metrics\n",
        "from sklearn.model_selection import train_test_split\n",
        "x=data.drop('Abnormal_URL',axis=1)\n",
        "y=data['Abnormal_URL']\n",
        "x_train,x_test,y_train,y_test=train_test_split(x,y,test_size=0.20,random_state=0)\n",
        "dt=DecisionTreeClassifier(random_state=0)\n",
        "dt.fit(x_train,y_train)\n",
        "y_predict=dt.predict(x_test)\n",
        "print(\"train set accuracy: \",100*dt.score(x_train,y_train))\n",
        "print(\"Test set accuracy : \",100*dt.score(x_test,y_test))\n",
        "print(metrics.classification_report(y_test,y_predict))"
      ],
      "execution_count": null,
      "outputs": [
        {
          "output_type": "stream",
          "name": "stdout",
          "text": [
            "train set accuracy:  99.79647218453188\n",
            "Test set accuracy :  98.50746268656717\n",
            "              precision    recall  f1-score   support\n",
            "\n",
            "          -1       0.95      0.95      0.95       327\n",
            "           1       0.99      0.99      0.99      1884\n",
            "\n",
            "    accuracy                           0.99      2211\n",
            "   macro avg       0.97      0.97      0.97      2211\n",
            "weighted avg       0.99      0.99      0.99      2211\n",
            "\n"
          ]
        }
      ]
    },
    {
      "cell_type": "code",
      "metadata": {
        "colab": {
          "base_uri": "https://localhost:8080/"
        },
        "id": "yBXsbIfthpnc",
        "outputId": "e1a3c015-eca5-4e40-9b1f-84fa7f0a6e15"
      },
      "source": [
        "from sklearn.tree import DecisionTreeClassifier\n",
        "from sklearn.metrics import accuracy_score\n",
        "from sklearn.metrics import mean_squared_error\n",
        "from sklearn import metrics\n",
        "from sklearn.model_selection import train_test_split\n",
        "x=data.drop('having_IP_Address',axis=1)\n",
        "y=data['having_IP_Address']\n",
        "x_train,x_test,y_train,y_test=train_test_split(x,y,test_size=0.20,random_state=0)\n",
        "dt=DecisionTreeClassifier(random_state=0)\n",
        "dt.fit(x_train,y_train)\n",
        "y_predict=dt.predict(x_test)\n",
        "print(\"train set accuracy: \",100*dt.score(x_train,y_train))\n",
        "print(\"Test set accuracy : \",100*dt.score(x_test,y_test))\n",
        "print(metrics.classification_report(y_test,y_predict))"
      ],
      "execution_count": null,
      "outputs": [
        {
          "output_type": "stream",
          "name": "stdout",
          "text": [
            "train set accuracy:  96.69832654907282\n",
            "Test set accuracy :  86.2053369516056\n",
            "              precision    recall  f1-score   support\n",
            "\n",
            "          -1       0.79      0.81      0.80       762\n",
            "           1       0.90      0.89      0.89      1449\n",
            "\n",
            "    accuracy                           0.86      2211\n",
            "   macro avg       0.85      0.85      0.85      2211\n",
            "weighted avg       0.86      0.86      0.86      2211\n",
            "\n"
          ]
        }
      ]
    },
    {
      "cell_type": "code",
      "metadata": {
        "colab": {
          "base_uri": "https://localhost:8080/"
        },
        "id": "eIA7fDnyi_4E",
        "outputId": "87dbf8cc-4b1b-41f2-b193-2198f14237c7"
      },
      "source": [
        "from sklearn.tree import DecisionTreeClassifier\n",
        "from sklearn.metrics import accuracy_score\n",
        "from sklearn.metrics import mean_squared_error\n",
        "from sklearn import metrics\n",
        "from sklearn.model_selection import train_test_split\n",
        "x=data.drop('Shortining_Service',axis=1)\n",
        "y=data['Shortining_Service']\n",
        "x_train,x_test,y_train,y_test=train_test_split(x,y,test_size=0.20,random_state=0)\n",
        "dt=DecisionTreeClassifier(random_state=0)\n",
        "dt.fit(x_train,y_train)\n",
        "y_predict=dt.predict(x_test)\n",
        "print(\"train set accuracy: \",100*dt.score(x_train,y_train))\n",
        "print(\"Test set accuracy : \",100*dt.score(x_test,y_test))\n",
        "print(metrics.classification_report(y_test,y_predict))"
      ],
      "execution_count": null,
      "outputs": [
        {
          "output_type": "stream",
          "name": "stdout",
          "text": [
            "train set accuracy:  99.81908638625056\n",
            "Test set accuracy :  98.95974672094076\n",
            "              precision    recall  f1-score   support\n",
            "\n",
            "          -1       0.95      0.98      0.96       287\n",
            "           1       1.00      0.99      0.99      1924\n",
            "\n",
            "    accuracy                           0.99      2211\n",
            "   macro avg       0.97      0.98      0.98      2211\n",
            "weighted avg       0.99      0.99      0.99      2211\n",
            "\n"
          ]
        }
      ]
    },
    {
      "cell_type": "code",
      "metadata": {
        "colab": {
          "base_uri": "https://localhost:8080/"
        },
        "id": "7-1OTv6ilMTk",
        "outputId": "92c7167d-eb9b-4524-e801-c18e838d3eb8"
      },
      "source": [
        "from sklearn.tree import DecisionTreeClassifier\n",
        "from sklearn.metrics import accuracy_score\n",
        "from sklearn.metrics import mean_squared_error\n",
        "from sklearn import metrics\n",
        "from sklearn.model_selection import train_test_split\n",
        "x=data.drop('SSLfinal_State',axis=1)\n",
        "y=data['SSLfinal_State']\n",
        "x_train,x_test,y_train,y_test=train_test_split(x,y,test_size=0.20,random_state=0)\n",
        "dt=DecisionTreeClassifier(random_state=0)\n",
        "dt.fit(x_train,y_train)\n",
        "y_predict=dt.predict(x_test)\n",
        "print(\"train set accuracy: \",100*dt.score(x_train,y_train))\n",
        "print(\"Test set accuracy : \",100*dt.score(x_test,y_test))\n",
        "print(metrics.classification_report(y_test,y_predict))"
      ],
      "execution_count": null,
      "outputs": [
        {
          "output_type": "stream",
          "name": "stdout",
          "text": [
            "train set accuracy:  96.56264133876074\n",
            "Test set accuracy :  86.38625056535504\n",
            "              precision    recall  f1-score   support\n",
            "\n",
            "          -1       0.81      0.81      0.81       710\n",
            "           0       0.72      0.74      0.73       247\n",
            "           1       0.92      0.92      0.92      1254\n",
            "\n",
            "    accuracy                           0.86      2211\n",
            "   macro avg       0.82      0.82      0.82      2211\n",
            "weighted avg       0.86      0.86      0.86      2211\n",
            "\n"
          ]
        }
      ]
    },
    {
      "cell_type": "code",
      "metadata": {
        "colab": {
          "base_uri": "https://localhost:8080/"
        },
        "id": "OfJ1IL_VlVTk",
        "outputId": "d3bed537-5c13-4e33-ef23-4a6b03d19c12"
      },
      "source": [
        "from sklearn.tree import DecisionTreeClassifier\n",
        "from sklearn.metrics import accuracy_score\n",
        "from sklearn.metrics import mean_squared_error\n",
        "from sklearn import metrics\n",
        "from sklearn.model_selection import train_test_split\n",
        "x=data.drop('Domain_registeration_length',axis=1)\n",
        "y=data['Domain_registeration_length']\n",
        "x_train,x_test,y_train,y_test=train_test_split(x,y,test_size=0.20,random_state=0)\n",
        "dt=DecisionTreeClassifier(random_state=0)\n",
        "dt.fit(x_train,y_train)\n",
        "y_predict=dt.predict(x_test)\n",
        "print(\"train set accuracy: \",100*dt.score(x_train,y_train))\n",
        "print(\"Test set accuracy : \",100*dt.score(x_test,y_test))\n",
        "print(metrics.classification_report(y_test,y_predict))"
      ],
      "execution_count": null,
      "outputs": [
        {
          "output_type": "stream",
          "name": "stdout",
          "text": [
            "train set accuracy:  96.23473541383989\n",
            "Test set accuracy :  88.78335594753504\n",
            "              precision    recall  f1-score   support\n",
            "\n",
            "          -1       0.91      0.92      0.91      1436\n",
            "           1       0.85      0.82      0.84       775\n",
            "\n",
            "    accuracy                           0.89      2211\n",
            "   macro avg       0.88      0.87      0.88      2211\n",
            "weighted avg       0.89      0.89      0.89      2211\n",
            "\n"
          ]
        }
      ]
    },
    {
      "cell_type": "code",
      "metadata": {
        "colab": {
          "base_uri": "https://localhost:8080/"
        },
        "id": "IxkEVeVCldxL",
        "outputId": "6db393ba-9d85-41ad-cbef-dc5e0e70b977"
      },
      "source": [
        "from sklearn.tree import DecisionTreeClassifier\n",
        "from sklearn.metrics import accuracy_score\n",
        "from sklearn.metrics import mean_squared_error\n",
        "from sklearn import metrics\n",
        "from sklearn.model_selection import train_test_split\n",
        "x=data.drop('Favicon',axis=1)\n",
        "y=data['Favicon']\n",
        "x_train,x_test,y_train,y_test=train_test_split(x,y,test_size=0.20,random_state=0)\n",
        "dt=DecisionTreeClassifier(random_state=0)\n",
        "dt.fit(x_train,y_train)\n",
        "y_predict=dt.predict(x_test)\n",
        "print(\"train set accuracy: \",100*dt.score(x_train,y_train))\n",
        "print(\"Test set accuracy : \",100*dt.score(x_test,y_test))\n",
        "print(metrics.classification_report(y_test,y_predict))"
      ],
      "execution_count": null,
      "outputs": [
        {
          "output_type": "stream",
          "name": "stdout",
          "text": [
            "train set accuracy:  100.0\n",
            "Test set accuracy :  99.27634554500227\n",
            "              precision    recall  f1-score   support\n",
            "\n",
            "          -1       0.99      0.97      0.98       426\n",
            "           1       0.99      1.00      1.00      1785\n",
            "\n",
            "    accuracy                           0.99      2211\n",
            "   macro avg       0.99      0.98      0.99      2211\n",
            "weighted avg       0.99      0.99      0.99      2211\n",
            "\n"
          ]
        }
      ]
    },
    {
      "cell_type": "code",
      "metadata": {
        "colab": {
          "base_uri": "https://localhost:8080/"
        },
        "id": "kHEQGyqnlrvb",
        "outputId": "f036cf51-62df-4c53-8479-e4d39bc17a9c"
      },
      "source": [
        "from sklearn.tree import DecisionTreeClassifier\n",
        "from sklearn.metrics import accuracy_score\n",
        "from sklearn.metrics import mean_squared_error\n",
        "from sklearn import metrics\n",
        "from sklearn.model_selection import train_test_split\n",
        "x=data.drop('port',axis=1)\n",
        "y=data['port']\n",
        "x_train,x_test,y_train,y_test=train_test_split(x,y,test_size=0.20,random_state=0)\n",
        "dt=DecisionTreeClassifier(random_state=0)\n",
        "dt.fit(x_train,y_train)\n",
        "y_predict=dt.predict(x_test)\n",
        "print(\"train set accuracy: \",100*dt.score(x_train,y_train))\n",
        "print(\"Test set accuracy : \",100*dt.score(x_test,y_test))\n",
        "print(metrics.classification_report(y_test,y_predict))"
      ],
      "execution_count": null,
      "outputs": [
        {
          "output_type": "stream",
          "name": "stdout",
          "text": [
            "train set accuracy:  99.96607869742198\n",
            "Test set accuracy :  99.09543193125283\n",
            "              precision    recall  f1-score   support\n",
            "\n",
            "          -1       0.97      0.96      0.97       295\n",
            "           1       0.99      1.00      0.99      1916\n",
            "\n",
            "    accuracy                           0.99      2211\n",
            "   macro avg       0.98      0.98      0.98      2211\n",
            "weighted avg       0.99      0.99      0.99      2211\n",
            "\n"
          ]
        }
      ]
    },
    {
      "cell_type": "code",
      "metadata": {
        "colab": {
          "base_uri": "https://localhost:8080/"
        },
        "id": "8A47a-Npl45c",
        "outputId": "f87af912-5c20-4706-a7a9-02a2a3bd3aad"
      },
      "source": [
        "from sklearn.tree import DecisionTreeClassifier\n",
        "from sklearn.metrics import accuracy_score\n",
        "from sklearn.metrics import mean_squared_error\n",
        "from sklearn import metrics\n",
        "from sklearn.model_selection import train_test_split\n",
        "x=data.drop('Request_URL',axis=1)\n",
        "y=data['Request_URL']\n",
        "x_train,x_test,y_train,y_test=train_test_split(x,y,test_size=0.20,random_state=0)\n",
        "dt=DecisionTreeClassifier(random_state=0)\n",
        "dt.fit(x_train,y_train)\n",
        "y_predict=dt.predict(x_test)\n",
        "print(\"train set accuracy: \",100*dt.score(x_train,y_train))\n",
        "print(\"Test set accuracy : \",100*dt.score(x_test,y_test))\n",
        "print(metrics.classification_report(y_test,y_predict))"
      ],
      "execution_count": null,
      "outputs": [
        {
          "output_type": "stream",
          "name": "stdout",
          "text": [
            "train set accuracy:  95.61284486657621\n",
            "Test set accuracy :  88.15015829941203\n",
            "              precision    recall  f1-score   support\n",
            "\n",
            "          -1       0.86      0.87      0.86       950\n",
            "           1       0.90      0.89      0.90      1261\n",
            "\n",
            "    accuracy                           0.88      2211\n",
            "   macro avg       0.88      0.88      0.88      2211\n",
            "weighted avg       0.88      0.88      0.88      2211\n",
            "\n"
          ]
        }
      ]
    },
    {
      "cell_type": "code",
      "metadata": {
        "colab": {
          "base_uri": "https://localhost:8080/"
        },
        "id": "auaXTSgTmNOr",
        "outputId": "97b56a55-52c6-4bf2-cf8f-986e6f923250"
      },
      "source": [
        "from sklearn.tree import DecisionTreeClassifier\n",
        "from sklearn.metrics import accuracy_score\n",
        "from sklearn.metrics import mean_squared_error\n",
        "from sklearn import metrics\n",
        "from sklearn.model_selection import train_test_split\n",
        "x=data.drop('URL_of_Anchor',axis=1)\n",
        "y=data['URL_of_Anchor']\n",
        "x_train,x_test,y_train,y_test=train_test_split(x,y,test_size=0.20,random_state=0)\n",
        "dt=DecisionTreeClassifier(random_state=0)\n",
        "dt.fit(x_train,y_train)\n",
        "y_predict=dt.predict(x_test)\n",
        "print(\"train set accuracy: \",100*dt.score(x_train,y_train))\n",
        "print(\"Test set accuracy : \",100*dt.score(x_test,y_test))\n",
        "print(metrics.classification_report(y_test,y_predict))"
      ],
      "execution_count": null,
      "outputs": [
        {
          "output_type": "stream",
          "name": "stdout",
          "text": [
            "train set accuracy:  94.4708276797829\n",
            "Test set accuracy :  83.5820895522388\n",
            "              precision    recall  f1-score   support\n",
            "\n",
            "          -1       0.86      0.86      0.86       694\n",
            "           0       0.84      0.85      0.85      1043\n",
            "           1       0.78      0.76      0.77       474\n",
            "\n",
            "    accuracy                           0.84      2211\n",
            "   macro avg       0.83      0.83      0.83      2211\n",
            "weighted avg       0.84      0.84      0.84      2211\n",
            "\n"
          ]
        }
      ]
    },
    {
      "cell_type": "code",
      "metadata": {
        "colab": {
          "base_uri": "https://localhost:8080/"
        },
        "id": "_aty7J9PmTOs",
        "outputId": "c1335612-7fe6-42e2-97e3-6dc998d518f5"
      },
      "source": [
        "from sklearn.tree import DecisionTreeClassifier\n",
        "from sklearn.metrics import accuracy_score\n",
        "from sklearn.metrics import mean_squared_error\n",
        "from sklearn import metrics\n",
        "from sklearn.model_selection import train_test_split\n",
        "x=data.drop('SFH',axis=1)\n",
        "y=data['SFH']\n",
        "x_train,x_test,y_train,y_test=train_test_split(x,y,test_size=0.20,random_state=0)\n",
        "dt=DecisionTreeClassifier(random_state=0)\n",
        "dt.fit(x_train,y_train)\n",
        "y_predict=dt.predict(x_test)\n",
        "print(\"train set accuracy: \",100*dt.score(x_train,y_train))\n",
        "print(\"Test set accuracy : \",100*dt.score(x_test,y_test))\n",
        "print(metrics.classification_report(y_test,y_predict))"
      ],
      "execution_count": null,
      "outputs": [
        {
          "output_type": "stream",
          "name": "stdout",
          "text": [
            "train set accuracy:  96.24604251469923\n",
            "Test set accuracy :  87.51696065128901\n",
            "              precision    recall  f1-score   support\n",
            "\n",
            "          -1       0.92      0.94      0.93      1712\n",
            "           0       0.53      0.54      0.54       151\n",
            "           1       0.78      0.71      0.75       348\n",
            "\n",
            "    accuracy                           0.88      2211\n",
            "   macro avg       0.75      0.73      0.74      2211\n",
            "weighted avg       0.87      0.88      0.87      2211\n",
            "\n"
          ]
        }
      ]
    },
    {
      "cell_type": "code",
      "metadata": {
        "colab": {
          "base_uri": "https://localhost:8080/"
        },
        "id": "PEPKLCWSmeJF",
        "outputId": "2001e406-4a93-47bf-c3d2-371bee5d7708"
      },
      "source": [
        "from sklearn.tree import DecisionTreeClassifier\n",
        "from sklearn.metrics import accuracy_score\n",
        "from sklearn.metrics import mean_squared_error\n",
        "from sklearn import metrics\n",
        "from sklearn.model_selection import train_test_split\n",
        "x=data.drop('Statistical_report',axis=1)\n",
        "y=data['Statistical_report']\n",
        "x_train,x_test,y_train,y_test=train_test_split(x,y,test_size=0.20,random_state=0)\n",
        "dt=DecisionTreeClassifier(random_state=0)\n",
        "dt.fit(x_train,y_train)\n",
        "y_predict=dt.predict(x_test)\n",
        "print(\"train set accuracy: \",100*dt.score(x_train,y_train))\n",
        "print(\"Test set accuracy : \",100*dt.score(x_test,y_test))\n",
        "print(metrics.classification_report(y_test,y_predict))"
      ],
      "execution_count": null,
      "outputs": [
        {
          "output_type": "stream",
          "name": "stdout",
          "text": [
            "train set accuracy:  98.29262777023972\n",
            "Test set accuracy :  92.49208502939847\n",
            "              precision    recall  f1-score   support\n",
            "\n",
            "          -1       0.70      0.79      0.74       300\n",
            "           1       0.97      0.95      0.96      1911\n",
            "\n",
            "    accuracy                           0.92      2211\n",
            "   macro avg       0.83      0.87      0.85      2211\n",
            "weighted avg       0.93      0.92      0.93      2211\n",
            "\n"
          ]
        }
      ]
    },
    {
      "cell_type": "code",
      "metadata": {
        "colab": {
          "base_uri": "https://localhost:8080/"
        },
        "id": "LHfMcIjnnrOk",
        "outputId": "d9602014-f979-4cb2-abe9-6452a0a41629"
      },
      "source": [
        "from sklearn.tree import DecisionTreeClassifier\n",
        "from sklearn.metrics import accuracy_score\n",
        "from sklearn.metrics import mean_squared_error\n",
        "from sklearn import metrics\n",
        "from sklearn.model_selection import train_test_split\n",
        "x=data.drop('Result',axis=1)\n",
        "y=data['Result']\n",
        "x_train,x_test,y_train,y_test=train_test_split(x,y,test_size=0.20,random_state=0)\n",
        "dt=DecisionTreeClassifier(random_state=0)\n",
        "dt.fit(x_train,y_train)\n",
        "y_predict=dt.predict(x_test)\n",
        "print(\"train set accuracy: \",100*dt.score(x_train,y_train))\n",
        "print(\"Test set accuracy : \",100*dt.score(x_test,y_test))\n",
        "print(metrics.classification_report(y_test,y_predict))"
      ],
      "execution_count": null,
      "outputs": [
        {
          "output_type": "stream",
          "name": "stdout",
          "text": [
            "train set accuracy:  99.02758932609679\n",
            "Test set accuracy :  96.29127091813659\n",
            "              precision    recall  f1-score   support\n",
            "\n",
            "          -1       0.97      0.95      0.96      1014\n",
            "           1       0.96      0.97      0.97      1197\n",
            "\n",
            "    accuracy                           0.96      2211\n",
            "   macro avg       0.96      0.96      0.96      2211\n",
            "weighted avg       0.96      0.96      0.96      2211\n",
            "\n"
          ]
        }
      ]
    }
  ]
}